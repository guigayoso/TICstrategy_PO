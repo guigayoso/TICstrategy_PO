{
 "cells": [
  {
   "cell_type": "code",
   "execution_count": 2,
   "id": "08d68a9f",
   "metadata": {},
   "outputs": [
    {
     "name": "stdout",
     "output_type": "stream",
     "text": [
      "The autoreload extension is already loaded. To reload it, use:\n",
      "  %reload_ext autoreload\n",
      "                 AAVE/USD\\n  AVAX/USD\\n   BTC/USD\\n  CRV/USD\\n  DOGE/USD\\n  \\\n",
      "macd               1.876405   -0.147694  -76.398854   0.004782   -0.000473   \n",
      "signal_line        0.769672   -0.116645   19.042594   0.001964   -0.000408   \n",
      "histogram          1.106733   -0.031049  -95.441448   0.002817   -0.000065   \n",
      "hist_diff          3.370506    0.153151  545.848070   0.010632    0.001793   \n",
      "lower_threshold    0.120684    0.001650    3.197860   0.000309    0.000050   \n",
      "upper_threshold    3.360877    0.407449  675.905757   0.012237    0.003831   \n",
      "trend              0.746094    0.060664  116.838476   0.003653    0.000459   \n",
      "\n",
      "                 DOT/USD\\n  ETH/USD\\n  GRT/USD\\n  LINK/USD\\n  LTC/USD\\n  \\\n",
      "macd              0.000530  -0.557384   0.000127   -0.103927   0.315632   \n",
      "signal_line      -0.010971   1.507700  -0.000330   -0.056083   0.074578   \n",
      "histogram         0.011501  -2.065084   0.000458   -0.047844   0.241054   \n",
      "hist_diff         0.048065   8.461039   0.001731    0.079815   0.888472   \n",
      "lower_threshold   0.000410   0.109641   0.000005    0.006267   0.007778   \n",
      "upper_threshold   0.077837  25.700137   0.002342    0.245136   1.317374   \n",
      "trend             0.018536   1.620531   0.000819    0.020313   0.340671   \n",
      "\n",
      "                 MKR/USD\\n    PEPE/USD\\n  SOL/USD\\n  UNI/USD\\n  XRP/USD\\n  \n",
      "macd              8.138738 -7.288127e-08   0.316964  -0.012203  -0.007282  \n",
      "signal_line       3.334772 -5.094901e-08  -0.108213  -0.028719  -0.004271  \n",
      "histogram         4.803966 -2.193226e-08   0.425177   0.016516  -0.003011  \n",
      "hist_diff         4.521533  2.124561e-08   1.339778   0.038277   0.006416  \n",
      "lower_threshold   0.002833  1.388044e-09   0.002479   0.000340   0.000210  \n",
      "upper_threshold  19.015041  2.360491e-07   2.455885   0.137369   0.030305  \n",
      "trend             3.119147  2.659648e-08   0.591347   0.017484   0.001354  \n",
      "Lower Threshold: 0.45, Upper Threshold: 0.55\n",
      "Filtered Result Dict: {0: {'date': datetime.datetime(2025, 5, 6, 16, 23, 5, 604179), 'trendy_assets': [('AAVE/USD\\n', ('AAVE/USD\\n', np.float64(1.876405437117569), np.float64(0.7696723305144744), np.float64(1.1067331066030945), np.float64(3.370505849114066), np.float64(0.12068383761222057), np.float64(3.360876999530147), np.float64(0.746093605238075))), ('AVAX/USD\\n', ('AVAX/USD\\n', np.float64(-0.14769421138384686), np.float64(-0.1166451628576021), np.float64(-0.031049048526244766), np.float64(0.15315068489924924), np.float64(0.0016502262084988062), np.float64(0.40744880656141036), np.float64(0.060663666116180605))), ('BTC/USD\\n', ('BTC/USD\\n', np.float64(-76.39885424004751), np.float64(19.042593708625084), np.float64(-95.44144794867259), np.float64(545.8480704672801), np.float64(3.1978600733521603), np.float64(675.9057565749844), np.float64(116.8384756127564))), ('CRV/USD\\n', ('CRV/USD\\n', np.float64(0.004781878882405), np.float64(0.001964449102504892), np.float64(0.002817429779900108), np.float64(0.010631884790215004), np.float64(0.00030861227220872495), np.float64(0.012237229993057711), np.float64(0.003652619045127966))), ('DOGE/USD\\n', ('DOGE/USD\\n', np.float64(-0.0004732320803105261), np.float64(-0.0004082628629502685), np.float64(-6.496921736025762e-05), np.float64(0.0017927064649610864), np.float64(4.96684969918781e-05), np.float64(0.003830637724355757), np.float64(0.00045863190275846))), ('DOT/USD\\n', ('DOT/USD\\n', np.float64(0.0005297336254233009), np.float64(-0.010971160437580285), np.float64(0.011500894063003586), np.float64(0.04806530923340255), np.float64(0.0004102430964512335), np.float64(0.07783706691227842), np.float64(0.01853631763755365))), ('ETH/USD\\n', ('ETH/USD\\n', np.float64(-0.5573840020038006), np.float64(1.5076997162354926), np.float64(-2.0650837182392934), np.float64(8.461038933567579), np.float64(0.10964130545238682), np.float64(25.700136960956904), np.float64(1.62053125306978))), ('GRT/USD\\n', ('GRT/USD\\n', np.float64(0.0001274397733906224), np.float64(-0.0003304583046630092), np.float64(0.0004578980780536316), np.float64(0.0017306459337053381), np.float64(5.147666562746456e-06), np.float64(0.002341591953150853), np.float64(0.0008186154286714112))), ('LINK/USD\\n', ('LINK/USD\\n', np.float64(-0.10392719121264982), np.float64(-0.05608334237909468), np.float64(-0.047843848833555136), np.float64(0.07981534463368606), np.float64(0.006266704002833641), np.float64(0.24513568692928026), np.float64(0.020312608631942876))), ('LTC/USD\\n', ('LTC/USD\\n', np.float64(0.3156322327712928), np.float64(0.0745783610898984), np.float64(0.24105387168139442), np.float64(0.8884720665370356), np.float64(0.007777612970831349), np.float64(1.3173743008275727), np.float64(0.34067135843918966))), ('MKR/USD\\n', ('MKR/USD\\n', np.float64(8.138737766316808), np.float64(3.3347717353662305), np.float64(4.803966030950578), np.float64(4.52153295962874), np.float64(0.002832745506499812), np.float64(19.015040656558156), np.float64(3.119147061576219))), ('PEPE/USD\\n', ('PEPE/USD\\n', np.float64(-7.288127128590338e-08), np.float64(-5.094901401880052e-08), np.float64(-2.193225726710286e-08), np.float64(2.124560688858202e-08), np.float64(1.388044326260889e-09), np.float64(2.360490606883233e-07), np.float64(2.6596480133031927e-08))), ('SOL/USD\\n', ('SOL/USD\\n', np.float64(0.31696397357939077), np.float64(-0.10821323540250423), np.float64(0.425177208981895), np.float64(1.3397777505957573), np.float64(0.0024794007768620396), np.float64(2.4558847466476177), np.float64(0.5913468373496085))), ('UNI/USD\\n', ('UNI/USD\\n', np.float64(-0.012202934135121524), np.float64(-0.02871937774784407), np.float64(0.016516443612722545), np.float64(0.03827675736706043), np.float64(0.0003401930417046145), np.float64(0.13736944467074277), np.float64(0.017483825380482265))), ('XRP/USD\\n', ('XRP/USD\\n', np.float64(-0.007281507266683196), np.float64(-0.004270625036949678), np.float64(-0.003010882229733518), np.float64(0.0064157350907991986), np.float64(0.00021042144185123564), np.float64(0.03030470286149107), np.float64(0.0013539684576410757)))], 'mean_reverting_assets': [], 'close_price': [('AAVE/USD\\n', np.float64(178.51)), ('AVAX/USD\\n', np.float64(19.76)), ('BTC/USD\\n', np.float64(94646.81)), ('CRV/USD\\n', np.float64(0.7105)), ('DOGE/USD\\n', np.float64(0.17132)), ('DOT/USD\\n', np.float64(3.972)), ('ETH/USD\\n', np.float64(1815.69)), ('GRT/USD\\n', np.float64(0.092)), ('LINK/USD\\n', np.float64(13.72)), ('LTC/USD\\n', np.float64(86.63)), ('MKR/USD\\n', np.float64(1549.0)), ('PEPE/USD\\n', np.float64(7.96e-06)), ('SOL/USD\\n', np.float64(146.03)), ('UNI/USD\\n', np.float64(5.003)), ('XRP/USD\\n', np.float64(2.1471))]}}\n",
      "Buy and sells: {0: {'buy': ['AAVE/USD\\n', 'CRV/USD\\n', 'DOT/USD\\n', 'GRT/USD\\n', 'LTC/USD\\n', 'MKR/USD\\n', 'SOL/USD\\n'], 'sell': []}}\n",
      "Assets to buy: ['AAVE/USD\\n', 'CRV/USD\\n', 'DOT/USD\\n', 'GRT/USD\\n', 'LTC/USD\\n', 'MKR/USD\\n', 'SOL/USD\\n']\n",
      "Buy array: [0.14285714285714285, 0.14285714285714285, 0.14285714285714285, 0.14285714285714285, 0.14285714285714285, 0.14285714285714285, 0.14285714285714285]\n",
      "Target weights: [['AAVE/USD\\n', Timestamp('2025-05-05 00:00:00'), 0.14285714285714285], ['CRV/USD\\n', Timestamp('2025-05-05 00:00:00'), 0.14285714285714285], ['DOT/USD\\n', Timestamp('2025-05-05 00:00:00'), 0.14285714285714285], ['GRT/USD\\n', Timestamp('2025-05-05 00:00:00'), 0.14285714285714285], ['LTC/USD\\n', Timestamp('2025-05-05 00:00:00'), 0.14285714285714285], ['MKR/USD\\n', Timestamp('2025-05-05 00:00:00'), 0.14285714285714285], ['SOL/USD\\n', Timestamp('2025-05-05 00:00:00'), 0.14285714285714285]]\n",
      "No previous weights, using target weights\n"
     ]
    },
    {
     "name": "stderr",
     "output_type": "stream",
     "text": [
      "c:\\tic\\TICstrategy_PO\\src\\indicators.py:138: FutureWarning: Series.__getitem__ treating keys as positions is deprecated. In a future version, integer keys will always be treated as labels (consistent with DataFrame behavior). To access a value by position, use `ser.iloc[pos]`\n",
      "  lower_threshold = sorted_positive_histogram[lower_thresold_index]\n",
      "c:\\tic\\TICstrategy_PO\\src\\indicators.py:141: FutureWarning: Series.__getitem__ treating keys as positions is deprecated. In a future version, integer keys will always be treated as labels (consistent with DataFrame behavior). To access a value by position, use `ser.iloc[pos]`\n",
      "  upper_threshold = sorted_positive_histogram[upper_threshold_index]\n"
     ]
    },
    {
     "data": {
      "text/plain": [
       "[['AAVE/USD\\n', Timestamp('2025-05-05 00:00:00'), 0.14285714285714285],\n",
       " ['CRV/USD\\n', Timestamp('2025-05-05 00:00:00'), 0.14285714285714285],\n",
       " ['DOT/USD\\n', Timestamp('2025-05-05 00:00:00'), 0.14285714285714285],\n",
       " ['GRT/USD\\n', Timestamp('2025-05-05 00:00:00'), 0.14285714285714285],\n",
       " ['LTC/USD\\n', Timestamp('2025-05-05 00:00:00'), 0.14285714285714285],\n",
       " ['MKR/USD\\n', Timestamp('2025-05-05 00:00:00'), 0.14285714285714285],\n",
       " ['SOL/USD\\n', Timestamp('2025-05-05 00:00:00'), 0.14285714285714285]]"
      ]
     },
     "execution_count": 2,
     "metadata": {},
     "output_type": "execute_result"
    }
   ],
   "source": [
    "%load_ext autoreload\n",
    "%autoreload 2\n",
    "import sys\n",
    "sys.path.append(\"..\")\n",
    "from po.po import PortfolioOptimization\n",
    "import pandas as pd\n",
    "import datetime\n",
    "import data_models as dm\n",
    "import src.data.data_collection as dc\n",
    "import tc_optimization as tc\n",
    "\n",
    "functional_constraints= dm.Functional_Constraints(\n",
    "                     Take_Profit= 0.2,\n",
    "                     Stop_Loss= 0.1, Capital_at_Risk= 0.6, \n",
    "                     Hurst_Filter = dm.HurstFilter.STANDARD,\n",
    "                     RSIFilter= dm.RSIFilter.LENIENT,\n",
    "                     Hurst_Exponents_Period = 101,\n",
    "                     MACD_Short_Window= 1, MACD_Long_Window= 2,\n",
    "                     Bollinger_Window= 20,\n",
    "                     RSI_Window= 5)\n",
    "\n",
    "rebalance_constraints = dm.Rebalance_Constraints(\n",
    "    Turnover_Constraint= 0.5, \n",
    "                 Transaction_Cost = 0.01, \n",
    "                 distance_method = tc.DistanceMethod.NORMALIZED_EUCLIDEAN)\n",
    "\n",
    "#dcollection = dc.DataProcessor(dm.Asset_Category.SP500_Stocks, None, datetime.datetime.today() - datetime.timedelta(days=functional_constraints.hurst_exponents_period))\n",
    "#closes = dcollection.get_asset_close_prices()\n",
    "closes = pd.read_csv(\"closes.csv\", index_col=0, parse_dates=True)\n",
    "previous_weights = None\n",
    "\n",
    "params = {'best_delta': 0.235,\n",
    "'mom_type': dm.Momentum_Type.MACD,\n",
    "'mean_rev_type': dm.Mean_Rev_Type.RSI,\n",
    "'rebalancing_period': dm.Rebalancing_Period.WEEKLY,\n",
    "'functional_constraints': functional_constraints,\n",
    "'rebalance_constraints': rebalance_constraints,\n",
    "'mom_days': 30}\n",
    "\n",
    "p = PortfolioOptimization(**params, closes=closes, previous_weights = previous_weights)\n",
    "p.get_weights()"
   ]
  }
 ],
 "metadata": {
  "kernelspec": {
   "display_name": "Python 3",
   "language": "python",
   "name": "python3"
  },
  "language_info": {
   "codemirror_mode": {
    "name": "ipython",
    "version": 3
   },
   "file_extension": ".py",
   "mimetype": "text/x-python",
   "name": "python",
   "nbconvert_exporter": "python",
   "pygments_lexer": "ipython3",
   "version": "3.13.2"
  }
 },
 "nbformat": 4,
 "nbformat_minor": 5
}
